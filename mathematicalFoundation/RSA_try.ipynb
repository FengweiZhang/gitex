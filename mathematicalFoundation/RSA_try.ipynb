{
 "metadata": {
  "language_info": {
   "codemirror_mode": {
    "name": "ipython",
    "version": 3
   },
   "file_extension": ".py",
   "mimetype": "text/x-python",
   "name": "python",
   "nbconvert_exporter": "python",
   "pygments_lexer": "ipython3",
   "version": "3.8.8"
  },
  "orig_nbformat": 2,
  "kernelspec": {
   "name": "python3",
   "display_name": "Python 3.8.8 64-bit ('torch': conda)",
   "metadata": {
    "interpreter": {
     "hash": "b104e73a6bc703f05e84da2cd6235ddbc2c121464bcd1bd6e4b3e43e587b3edc"
    }
   }
  }
 },
 "nbformat": 4,
 "nbformat_minor": 2,
 "cells": [
  {
   "cell_type": "code",
   "execution_count": 1,
   "metadata": {},
   "outputs": [],
   "source": [
    "from tools import *"
   ]
  },
  {
   "cell_type": "code",
   "execution_count": 2,
   "metadata": {},
   "outputs": [],
   "source": [
    "N = 19260817\n",
    "ans = get_prime(N)"
   ]
  },
  {
   "cell_type": "code",
   "execution_count": 3,
   "metadata": {},
   "outputs": [
    {
     "output_type": "stream",
     "name": "stdout",
     "text": [
      "19260817 19260803\n"
     ]
    }
   ],
   "source": [
    "p = ans[-1]\n",
    "q = ans[-2]\n",
    "print(p,q)"
   ]
  },
  {
   "cell_type": "code",
   "execution_count": 4,
   "metadata": {},
   "outputs": [
    {
     "output_type": "stream",
     "name": "stdout",
     "text": [
      "m_pre is 12153928749823749285834759374598374958734985734975239842847589476984534096453\nc is 67806336435078\nm is 264103881680579\nn is 370978801856051\n0\n"
     ]
    }
   ],
   "source": [
    "m_pre = 12153928749823749285834759374598374958734985734975239842847589476984534096453\n",
    "print(f'm_pre is {m_pre}')\n",
    "r = RSA(p,q)\n",
    "c = r.lock(m_pre)\n",
    "print(f'c is {c}')\n",
    "m = r.unlock(c)\n",
    "print(f'm is {m}')\n",
    "print(f'n is {r.n}')\n",
    "print((m_pre - m) % r.n)"
   ]
  }
 ]
}