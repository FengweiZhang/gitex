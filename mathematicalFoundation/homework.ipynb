{
 "metadata": {
  "language_info": {
   "codemirror_mode": {
    "name": "ipython",
    "version": 3
   },
   "file_extension": ".py",
   "mimetype": "text/x-python",
   "name": "python",
   "nbconvert_exporter": "python",
   "pygments_lexer": "ipython3",
   "version": "3.8.8-final"
  },
  "orig_nbformat": 2,
  "kernelspec": {
   "name": "python3",
   "display_name": "Python 3",
   "language": "python"
  }
 },
 "nbformat": 4,
 "nbformat_minor": 2,
 "cells": [
  {
   "cell_type": "code",
   "execution_count": 1,
   "metadata": {},
   "outputs": [],
   "source": [
    "from prime import *"
   ]
  },
  {
   "cell_type": "code",
   "execution_count": 3,
   "metadata": {},
   "outputs": [
    {
     "output_type": "stream",
     "name": "stdout",
     "text": [
      "(1)   a = 166 , b = 332 , s = 1 , t = 0\n(2)   a = 984 , b = 1038 , s = -77 , t = 73\n(3)   a = 1124 , b = 1213 , s = -368 , t = 341\n(4)   a = 1281 , b = 2019 , s = -145 , t = 92\n(5)   a = 1338 , b = 2018 , s = -92 , t = 61\n(6)   a = 2021 , b = 313 , s = -116 , t = 749\n(7)   a = 202103 , b = 1601 , s = -637 , t = 80412\n(8)   a = 20210301 , b = 1231 , s = -570 , t = 9358141\n(9)   a = 1301 , b = 1373 , s = 553 , t = -524\n(10)   a = 1601 , b = 1681 , s = 21 , t = -20\n"
     ]
    }
   ],
   "source": [
    "A = [166,984,1124,1281,1338,2021,202103,20210301,1301,1601]\n",
    "B = [332,1038,1213,2019,2018,313,1601,1231,1373,1681]\n",
    "i = 1\n",
    "for a,b in zip(A,B):\n",
    "    ans = bezout(a,b)\n",
    "    print(f'({i})   a = {a} , b = {b} , s = {ans[0]} , t = {ans[1]}')\n",
    "    i += 1"
   ]
  },
  {
   "cell_type": "code",
   "execution_count": 2,
   "metadata": {},
   "outputs": [
    {
     "output_type": "execute_result",
     "data": {
      "text/plain": [
       "5"
      ]
     },
     "metadata": {},
     "execution_count": 2
    }
   ],
   "source": [
    "gcd_n(120,150,35,210)"
   ]
  },
  {
   "cell_type": "code",
   "execution_count": 2,
   "metadata": {},
   "outputs": [
    {
     "output_type": "execute_result",
     "data": {
      "text/plain": [
       "(-1, 2)"
      ]
     },
     "metadata": {},
     "execution_count": 2
    }
   ],
   "source": [
    "bezout(7,4)"
   ]
  },
  {
   "cell_type": "code",
   "execution_count": null,
   "metadata": {},
   "outputs": [],
   "source": []
  }
 ]
}