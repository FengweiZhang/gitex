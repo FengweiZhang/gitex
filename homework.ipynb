{
 "metadata": {
  "language_info": {
   "codemirror_mode": {
    "name": "ipython",
    "version": 3
   },
   "file_extension": ".py",
   "mimetype": "text/x-python",
   "name": "python",
   "nbconvert_exporter": "python",
   "pygments_lexer": "ipython3",
   "version": "3.8.5-final"
  },
  "orig_nbformat": 2,
  "kernelspec": {
   "name": "python3",
   "display_name": "Python 3.8.5 64-bit (conda)",
   "metadata": {
    "interpreter": {
     "hash": "cd8ac7ed5329ff1f59a8356dfddf06d159cf18414acbfd7b13d1d5cd1cbb5d7d"
    }
   }
  }
 },
 "nbformat": 4,
 "nbformat_minor": 2,
 "cells": [
  {
   "cell_type": "code",
   "execution_count": 1,
   "metadata": {},
   "outputs": [],
   "source": [
    "from prime import *"
   ]
  },
  {
   "cell_type": "code",
   "execution_count": 3,
   "metadata": {},
   "outputs": [
    {
     "output_type": "stream",
     "name": "stdout",
     "text": [
      "s = 1 , t = 0\ns = -77 , t = 73\ns = -368 , t = 341\ns = -145 , t = 92\ns = -92 , t = 61\n"
     ]
    }
   ],
   "source": [
    "A = [166,984,1124,1281,1338]\n",
    "B = [332,1038,1213,2019,2018]\n",
    "for a,b in zip(A,B):\n",
    "    ans = bezour(a,b)\n",
    "    print(f's = {ans[0]} , t = {ans[1]}')"
   ]
  }
 ]
}